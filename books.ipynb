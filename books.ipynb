{
 "cells": [
  {
   "cell_type": "code",
   "execution_count": 31,
   "id": "11c4837f",
   "metadata": {},
   "outputs": [
    {
     "name": "stdout",
     "output_type": "stream",
     "text": [
      "   bookID                                              title  \\\n",
      "0       1  Harry Potter and the Half-Blood Prince (Harry ...   \n",
      "1       2  Harry Potter and the Order of the Phoenix (Har...   \n",
      "2       4  Harry Potter and the Chamber of Secrets (Harry...   \n",
      "3       5  Harry Potter and the Prisoner of Azkaban (Harr...   \n",
      "4       8  Harry Potter Boxed Set  Books 1-5 (Harry Potte...   \n",
      "\n",
      "                      authors  average_rating        isbn         isbn13  \\\n",
      "0  J.K. Rowling/Mary GrandPré            4.57  0439785960  9780439785969   \n",
      "1  J.K. Rowling/Mary GrandPré            4.49  0439358078  9780439358071   \n",
      "2                J.K. Rowling            4.42  0439554896  9780439554893   \n",
      "3  J.K. Rowling/Mary GrandPré            4.56  043965548X  9780439655484   \n",
      "4  J.K. Rowling/Mary GrandPré            4.78  0439682584  9780439682589   \n",
      "\n",
      "  language_code    num_pages  ratings_count  text_reviews_count  \\\n",
      "0           eng          652        2095690               27591   \n",
      "1           eng          870        2153167               29221   \n",
      "2           eng          352           6333                 244   \n",
      "3           eng          435        2339585               36325   \n",
      "4           eng         2690          41428                 164   \n",
      "\n",
      "  publication_date        publisher  \n",
      "0        9/16/2006  Scholastic Inc.  \n",
      "1         9/1/2004  Scholastic Inc.  \n",
      "2        11/1/2003       Scholastic  \n",
      "3         5/1/2004  Scholastic Inc.  \n",
      "4        9/13/2004       Scholastic  \n",
      "Index(['bookID', 'title', 'authors', 'average_rating', 'isbn', 'isbn13',\n",
      "       'language_code', 'num_pages', 'ratings_count', 'text_reviews_count',\n",
      "       'publication_date', 'publisher'],\n",
      "      dtype='object')\n"
     ]
    },
    {
     "name": "stderr",
     "output_type": "stream",
     "text": [
      "b'Skipping line 3350: expected 12 fields, saw 13\\nSkipping line 4704: expected 12 fields, saw 13\\nSkipping line 5879: expected 12 fields, saw 13\\nSkipping line 8981: expected 12 fields, saw 13\\n'\n"
     ]
    }
   ],
   "source": [
    "import pandas as pd\n",
    "import numpy as np\n",
    "import matplotlib.pyplot as plt\n",
    "import seaborn as sns\n",
    "import statsmodels.api as sm\n",
    "from sklearn import linear_model\n",
    "\n",
    "data = pd.read_csv(\"books.csv\", error_bad_lines = False)\n",
    "print(data.head())\n",
    "data.rename(columns={'  num_pages':\"num_pages\"}, inplace=True)\n",
    "print(data.columns)\n",
    "# ['bookID', 'title', 'authors', 'average_rating', 'isbn', 'isbn13',\n",
    "#        'language_code', 'num_pages', 'ratings_count', 'text_reviews_count',\n",
    "#        'publication_date', 'publisher']\n",
    "\n",
    "\n",
    "#hypothesis - to predict rating OR good book is >=3.5 bad book is <3.5"
   ]
  },
  {
   "cell_type": "code",
   "execution_count": 32,
   "id": "160610a3",
   "metadata": {},
   "outputs": [
    {
     "data": {
      "text/plain": [
       "'\\nThings to try:\\nscatterplot of num of pages on rating\\nnumber of ratings on rating\\nnuber of reviews on rating\\npublication date on rating (did \"good\" books happen more in the \"good old days\"?)\\n\\nAlso try multiple linear regression model with all these inputs on rating\\nand determine the ones with the most impact\\n\\nTry making a decision tree? and see the ranking of the gini impurities?\\n\\nIn scatterplots, see if there are clusters - then use k means clustering (unsupervised)\\n\\n'"
      ]
     },
     "execution_count": 32,
     "metadata": {},
     "output_type": "execute_result"
    }
   ],
   "source": [
    "'''\n",
    "Things to try:\n",
    "scatterplot of num of pages on rating\n",
    "number of ratings on rating\n",
    "nuber of reviews on rating\n",
    "publication date on rating (did \"good\" books happen more in the \"good old days\"?)\n",
    "\n",
    "Also try multiple linear regression model with all these inputs on rating\n",
    "and determine the ones with the most impact\n",
    "\n",
    "Try making a decision tree? and see the ranking of the gini impurities?\n",
    "\n",
    "In scatterplots, see if there are clusters - then use k means clustering (unsupervised)\n",
    "\n",
    "'''"
   ]
  },
  {
   "cell_type": "code",
   "execution_count": 33,
   "id": "2fd1cf30",
   "metadata": {},
   "outputs": [
    {
     "data": {
      "image/png": "[encoded data removed]",
      "text/plain": [
       "<Figure size 432x288 with 1 Axes>"
      ]
     },
     "metadata": {
      "needs_background": "light"
     },
     "output_type": "display_data"
    },
    {
     "name": "stdout",
     "output_type": "stream",
     "text": [
      "[0.0002187] 3.8605037745743136\n",
      "r square: 0.02264321108252576\n"
     ]
    },
    {
     "data": {
      "image/png": "[encoded data removed]",
      "text/plain": [
       "<Figure size 432x288 with 1 Axes>"
      ]
     },
     "metadata": {
      "needs_background": "light"
     },
     "output_type": "display_data"
    },
    {
     "name": "stdout",
     "output_type": "stream",
     "text": [
      "[1.19083629e-07] 3.931938639919615\n",
      "r square: 0.001461042970934856\n"
     ]
    },
    {
     "data": {
      "image/png": "[encoded data removed]",
      "text/plain": [
       "<Figure size 432x288 with 1 Axes>"
      ]
     },
     "metadata": {
      "needs_background": "light"
     },
     "output_type": "display_data"
    },
    {
     "name": "stdout",
     "output_type": "stream",
     "text": [
      "[4.57900873e-06] 3.9315932964102642\n",
      "r square: 0.0011331930651919953\n"
     ]
    },
    {
     "data": {
      "text/html": [
       "<table class=\"simpletable\">\n",
       "<caption>OLS Regression Results</caption>\n",
       "<tr>\n",
       "  <th>Dep. Variable:</th>     <td>average_rating</td>  <th>  R-squared:         </th> <td>   0.024</td>\n",
       "</tr>\n",
       "<tr>\n",
       "  <th>Model:</th>                   <td>OLS</td>       <th>  Adj. R-squared:    </th> <td>   0.023</td>\n",
       "</tr>\n",
       "<tr>\n",
       "  <th>Method:</th>             <td>Least Squares</td>  <th>  F-statistic:       </th> <td>   90.12</td>\n",
       "</tr>\n",
       "<tr>\n",
       "  <th>Date:</th>             <td>Mon, 15 Aug 2022</td> <th>  Prob (F-statistic):</th> <td>1.28e-57</td>\n",
       "</tr>\n",
       "<tr>\n",
       "  <th>Time:</th>                 <td>20:31:06</td>     <th>  Log-Likelihood:    </th> <td> -3987.0</td>\n",
       "</tr>\n",
       "<tr>\n",
       "  <th>No. Observations:</th>      <td> 11123</td>      <th>  AIC:               </th> <td>   7982.</td>\n",
       "</tr>\n",
       "<tr>\n",
       "  <th>Df Residuals:</th>          <td> 11119</td>      <th>  BIC:               </th> <td>   8011.</td>\n",
       "</tr>\n",
       "<tr>\n",
       "  <th>Df Model:</th>              <td>     3</td>      <th>                     </th>     <td> </td>   \n",
       "</tr>\n",
       "<tr>\n",
       "  <th>Covariance Type:</th>      <td>nonrobust</td>    <th>                     </th>     <td> </td>   \n",
       "</tr>\n",
       "</table>\n",
       "<table class=\"simpletable\">\n",
       "<tr>\n",
       "           <td></td>             <th>coef</th>     <th>std err</th>      <th>t</th>      <th>P>|t|</th>  <th>[0.025</th>    <th>0.975]</th>  \n",
       "</tr>\n",
       "<tr>\n",
       "  <th>Intercept</th>          <td>    3.8593</td> <td>    0.006</td> <td>  681.435</td> <td> 0.000</td> <td>    3.848</td> <td>    3.870</td>\n",
       "</tr>\n",
       "<tr>\n",
       "  <th>num_pages</th>          <td>    0.0002</td> <td> 1.36e-05</td> <td>   15.928</td> <td> 0.000</td> <td>    0.000</td> <td>    0.000</td>\n",
       "</tr>\n",
       "<tr>\n",
       "  <th>ratings_count</th>      <td> 1.087e-07</td> <td> 5.84e-08</td> <td>    1.862</td> <td> 0.063</td> <td>-5.72e-09</td> <td> 2.23e-07</td>\n",
       "</tr>\n",
       "<tr>\n",
       "  <th>text_reviews_count</th> <td>-2.825e-07</td> <td> 2.55e-06</td> <td>   -0.111</td> <td> 0.912</td> <td>-5.28e-06</td> <td> 4.71e-06</td>\n",
       "</tr>\n",
       "</table>\n",
       "<table class=\"simpletable\">\n",
       "<tr>\n",
       "  <th>Omnibus:</th>       <td>9351.119</td> <th>  Durbin-Watson:     </th>  <td>   1.642</td> \n",
       "</tr>\n",
       "<tr>\n",
       "  <th>Prob(Omnibus):</th>  <td> 0.000</td>  <th>  Jarque-Bera (JB):  </th> <td>660720.455</td>\n",
       "</tr>\n",
       "<tr>\n",
       "  <th>Skew:</th>           <td>-3.616</td>  <th>  Prob(JB):          </th>  <td>    0.00</td> \n",
       "</tr>\n",
       "<tr>\n",
       "  <th>Kurtosis:</th>       <td>40.059</td>  <th>  Cond. No.          </th>  <td>1.96e+05</td> \n",
       "</tr>\n",
       "</table><br/><br/>Notes:<br/>[1] Standard Errors assume that the covariance matrix of the errors is correctly specified.<br/>[2] The condition number is large, 1.96e+05. This might indicate that there are<br/>strong multicollinearity or other numerical problems."
      ],
      "text/plain": [
       "<class 'statsmodels.iolib.summary.Summary'>\n",
       "\"\"\"\n",
       "                            OLS Regression Results                            \n",
       "==============================================================================\n",
       "Dep. Variable:         average_rating   R-squared:                       0.024\n",
       "Model:                            OLS   Adj. R-squared:                  0.023\n",
       "Method:                 Least Squares   F-statistic:                     90.12\n",
       "Date:                Mon, 15 Aug 2022   Prob (F-statistic):           1.28e-57\n",
       "Time:                        20:31:06   Log-Likelihood:                -3987.0\n",
       "No. Observations:               11123   AIC:                             7982.\n",
       "Df Residuals:                   11119   BIC:                             8011.\n",
       "Df Model:                           3                                         \n",
       "Covariance Type:            nonrobust                                         \n",
       "======================================================================================\n",
       "                         coef    std err          t      P>|t|      [0.025      0.975]\n",
       "--------------------------------------------------------------------------------------\n",
       "Intercept              3.8593      0.006    681.435      0.000       3.848       3.870\n",
       "num_pages              0.0002   1.36e-05     15.928      0.000       0.000       0.000\n",
       "ratings_count       1.087e-07   5.84e-08      1.862      0.063   -5.72e-09    2.23e-07\n",
       "text_reviews_count -2.825e-07   2.55e-06     -0.111      0.912   -5.28e-06    4.71e-06\n",
       "==============================================================================\n",
       "Omnibus:                     9351.119   Durbin-Watson:                   1.642\n",
       "Prob(Omnibus):                  0.000   Jarque-Bera (JB):           660720.455\n",
       "Skew:                          -3.616   Prob(JB):                         0.00\n",
       "Kurtosis:                      40.059   Cond. No.                     1.96e+05\n",
       "==============================================================================\n",
       "\n",
       "Notes:\n",
       "[1] Standard Errors assume that the covariance matrix of the errors is correctly specified.\n",
       "[2] The condition number is large, 1.96e+05. This might indicate that there are\n",
       "strong multicollinearity or other numerical problems.\n",
       "\"\"\""
      ]
     },
     "execution_count": 33,
     "metadata": {},
     "output_type": "execute_result"
    }
   ],
   "source": [
    "#['bookID', 'title', 'authors', 'average_rating', 'isbn', 'isbn13','language_code', \n",
    "# '  num_pages', 'ratings_count',\n",
    "# 'text_reviews_count','publication_date', 'publisher']\n",
    "\n",
    "# scatterplot of num of pages on rating\n",
    "x1=data[\"num_pages\"]\n",
    "y=data[\"average_rating\"]\n",
    "plt.scatter(x1, y)\n",
    "plt.xlabel(\"Number of Pages\")\n",
    "plt.ylabel(\"Avg Rating of 5\")\n",
    "plt.show()\n",
    "X=x1.values.reshape(-1,1)\n",
    "regr = linear_model.LinearRegression()\n",
    "regr.fit(X,y)\n",
    "print(regr.coef_, regr.intercept_)\n",
    "print(f\"r square: {regr.score(X,y)}\")\n",
    "\n",
    "# number of ratings on rating\n",
    "x2=data[\"ratings_count\"]\n",
    "plt.scatter(x2, y)\n",
    "plt.xlabel(\"Number of Ratings\")\n",
    "plt.ylabel(\"Avg Rating of 5\")\n",
    "plt.show()\n",
    "X2=x2.values.reshape(-1,1)\n",
    "regr2 = linear_model.LinearRegression()\n",
    "regr2.fit(X2,y)\n",
    "print(regr2.coef_, regr2.intercept_)\n",
    "print(f\"r square: {regr2.score(X2,y)}\")\n",
    "\n",
    "\n",
    "# number of reviews on rating\n",
    "x3=data[\"text_reviews_count\"]\n",
    "plt.scatter(x3, y=data[\"average_rating\"])\n",
    "plt.xlabel(\"Number of Book Reviews\")\n",
    "plt.ylabel(\"Avg Rating of 5\")\n",
    "plt.show()\n",
    "X3=x3.values.reshape(-1,1)\n",
    "regr3 = linear_model.LinearRegression()\n",
    "regr3.fit(X3,y)\n",
    "print(regr3.coef_, regr3.intercept_)\n",
    "print(f\"r square: {regr3.score(X3,y)}\")\n",
    "\n",
    "\n",
    "resultsPages = sm.OLS.from_formula(\"average_rating ~ num_pages + ratings_count + text_reviews_count\", data=data).fit()\n",
    "resultsPages.summary()\n"
   ]
  },
  {
   "cell_type": "code",
   "execution_count": 34,
   "id": "6656132d",
   "metadata": {},
   "outputs": [
    {
     "data": {
      "text/plain": [
       "'\\n# doing log transformation to get more linear plots\\n# log_commute_times = np.log(commute_times)\\n\\n#[\\'bookID\\', \\'title\\', \\'authors\\', \\'average_rating\\', \\'isbn\\', \\'isbn13\\',\\'language_code\\', \\n# \\'  num_pages\\', \\'ratings_count\\',\\n# \\'text_reviews_count\\',\\'publication_date\\', \\'publisher\\']\\n\\n# np.log on independent\\n# scatterplot of num of pages on rating\\nx1=np.log(data[\"num_pages\"])\\ny=data[\"average_rating\"]\\nplt.scatter(x1, y)\\nplt.xlabel(\"Number of Pages\")\\nplt.ylabel(\"Avg Rating of 5\")\\nplt.show()\\nX=x1.values.reshape(-1,1)\\nregr = linear_model.LinearRegression()\\nregr.fit(X,y)\\nprint(regr.coef_, regr.intercept_)\\nprint(f\"r square: {regr.score(X,y)}\")\\n\\n# number of ratings on rating\\nx2=np.log(data[\"ratings_count\"])\\nplt.scatter(x2, y)\\nplt.xlabel(\"Number of Ratings\")\\nplt.ylabel(\"Avg Rating of 5\")\\nplt.show()\\nX2=x2.values.reshape(-1,1)\\nregr2 = linear_model.LinearRegression()\\nregr2.fit(X2,y)\\nprint(regr2.coef_, regr2.intercept_)\\nprint(f\"r square: {regr2.score(X2,y)}\")\\n\\n# number of reviews on rating\\nplt.scatter(x=np.log(data[\"text_reviews_count\"]), y=data[\"average_rating\"])\\nplt.xlabel(\"Number of Book Reviews\")\\nplt.ylabel(\"Avg Rating of 5\")\\nplt.show()\\nX3=x3.values.reshape(-1,1)\\nregr3 = linear_model.LinearRegression()\\nregr3.fit(X3,y)\\nprint(regr3.coef_, regr3.intercept_)\\nprint(f\"r square: {regr3.score(X3,y)}\")\\n\\nplt.clf()\\n\\n# np.log on dependent does not spread out the data as well as log(x)\\n'"
      ]
     },
     "execution_count": 34,
     "metadata": {},
     "output_type": "execute_result"
    }
   ],
   "source": [
    "'''\n",
    "# doing log transformation to get more linear plots\n",
    "# log_commute_times = np.log(commute_times)\n",
    "\n",
    "#['bookID', 'title', 'authors', 'average_rating', 'isbn', 'isbn13','language_code', \n",
    "# '  num_pages', 'ratings_count',\n",
    "# 'text_reviews_count','publication_date', 'publisher']\n",
    "\n",
    "# np.log on independent\n",
    "# scatterplot of num of pages on rating\n",
    "x1=np.log(data[\"num_pages\"])\n",
    "y=data[\"average_rating\"]\n",
    "plt.scatter(x1, y)\n",
    "plt.xlabel(\"Number of Pages\")\n",
    "plt.ylabel(\"Avg Rating of 5\")\n",
    "plt.show()\n",
    "X=x1.values.reshape(-1,1)\n",
    "regr = linear_model.LinearRegression()\n",
    "regr.fit(X,y)\n",
    "print(regr.coef_, regr.intercept_)\n",
    "print(f\"r square: {regr.score(X,y)}\")\n",
    "\n",
    "# number of ratings on rating\n",
    "x2=np.log(data[\"ratings_count\"])\n",
    "plt.scatter(x2, y)\n",
    "plt.xlabel(\"Number of Ratings\")\n",
    "plt.ylabel(\"Avg Rating of 5\")\n",
    "plt.show()\n",
    "X2=x2.values.reshape(-1,1)\n",
    "regr2 = linear_model.LinearRegression()\n",
    "regr2.fit(X2,y)\n",
    "print(regr2.coef_, regr2.intercept_)\n",
    "print(f\"r square: {regr2.score(X2,y)}\")\n",
    "\n",
    "# number of reviews on rating\n",
    "plt.scatter(x=np.log(data[\"text_reviews_count\"]), y=data[\"average_rating\"])\n",
    "plt.xlabel(\"Number of Book Reviews\")\n",
    "plt.ylabel(\"Avg Rating of 5\")\n",
    "plt.show()\n",
    "X3=x3.values.reshape(-1,1)\n",
    "regr3 = linear_model.LinearRegression()\n",
    "regr3.fit(X3,y)\n",
    "print(regr3.coef_, regr3.intercept_)\n",
    "print(f\"r square: {regr3.score(X3,y)}\")\n",
    "\n",
    "plt.clf()\n",
    "\n",
    "# np.log on dependent does not spread out the data as well as log(x)\n",
    "'''"
   ]
  },
  {
   "cell_type": "code",
   "execution_count": 35,
   "id": "a4688933",
   "metadata": {},
   "outputs": [
    {
     "name": "stdout",
     "output_type": "stream",
     "text": [
      "0.9344796583501911\n",
      "0.9325842696629213\n",
      "[[   0  150]\n",
      " [   0 2075]]\n",
      "0.9325842696629213\n",
      "0.9651162790697675\n",
      "[1]\n"
     ]
    }
   ],
   "source": [
    "from sklearn.linear_model import LogisticRegression\n",
    "from sklearn.model_selection import train_test_split\n",
    "from sklearn.preprocessing import StandardScaler\n",
    "\n",
    "# Logistic regression to see features impact label and classify \"good\" or \"bad\" book based on ratings\n",
    "\n",
    "# create good_or_bad column\n",
    "data[\"good_or_bad\"] = [1 if rating>=3.5 else 0 for rating in data[\"average_rating\"]]\n",
    "\n",
    "# split the data into features and label\n",
    "features = data[[\"num_pages\",\"text_reviews_count\"]]\n",
    "label = data[\"good_or_bad\"]\n",
    "\n",
    "x_train, x_test, y_train, y_test = train_test_split(features, label, test_size=0.2)\n",
    "\n",
    "# normalize feature variables\n",
    "scaler = StandardScaler()\n",
    "x_train = scaler.fit_transform(x_train)\n",
    "x_test = scaler.transform(x_test)\n",
    "\n",
    "# fit the model to training data\n",
    "model = LogisticRegression()\n",
    "model.fit(x_train, y_train)\n",
    "\n",
    "# score the model\n",
    "print(model.score(x_train, y_train))\n",
    "# 0.9330186558777254\n",
    "\n",
    "# score the model used on the test data\n",
    "print(model.score(x_test, y_test))\n",
    "# 0.9384269662921348\n",
    "\n",
    "# find the predicted values to create a confusion matrix\n",
    "y_pred = model.predict(x_test)\n",
    "\n",
    "from sklearn.metrics import confusion_matrix\n",
    "print(confusion_matrix(y_test, y_pred))\n",
    "# num pages, ratings counts, review counts\n",
    "# 0 true negatives, 0 false negatives, 2082 true positives, 143 false positives\n",
    "# num pages, ratings counts\n",
    "# 0 true negatives, 0 false negatives, 2065 true positives, 160 false positives\n",
    "# num pages\n",
    "# 0 true negatives, 0 false negatives, 2077 true positives, 148 false positives\n",
    "# no random state 0 TN, 0 FN, 2085 TP, 140 FP\n",
    "\n",
    "# accuracy score = (TP + TN)/(TP + FP + TN + FN)\n",
    "from sklearn.metrics import accuracy_score\n",
    "print(accuracy_score(y_test, y_pred))\n",
    "# num pages, ratings counts, review counts\n",
    "# 0.9357303370786517\n",
    "# num pages, ratings counts\n",
    "# 0.9280898876404494\n",
    "# num pages, reviews_count\n",
    "# 0.9334831460674158 no random state -> 0.9370786516853933\n",
    "\n",
    "# f1 score = weighted average of precision and recall\n",
    "from sklearn.metrics import f1_score\n",
    "print(f1_score(y_test, y_pred))\n",
    "# num pages, ratings counts, review counts\n",
    "# 0.9667982354306943\n",
    "# num pages, ratings counts\n",
    "# 0.9627039627039626\n",
    "# num pages, reviews_count\n",
    "# 0.9655973965597396 no random state -> 0.9675174013921114\n",
    "\n",
    "# Being Jamie Baker has 696 reviews, 353 pages, 4.01 rating = GOOD\n",
    "jamie_pred = model.predict([[353,696]])\n",
    "print(jamie_pred)\n",
    "\n",
    "# Wahoo!! I built a predictor for a good book!\n",
    "\n",
    "\n"
   ]
  },
  {
   "cell_type": "code",
   "execution_count": null,
   "id": "4e968922",
   "metadata": {},
   "outputs": [],
   "source": []
  }
 ],
 "metadata": {
  "kernelspec": {
   "display_name": "Python 3",
   "language": "python",
   "name": "python3"
  },
  "language_info": {
   "codemirror_mode": {
    "name": "ipython",
    "version": 3
   },
   "file_extension": ".py",
   "mimetype": "text/x-python",
   "name": "python",
   "nbconvert_exporter": "python",
   "pygments_lexer": "ipython3",
   "version": "3.8.8"
  }
 },
 "nbformat": 4,
 "nbformat_minor": 5
}
